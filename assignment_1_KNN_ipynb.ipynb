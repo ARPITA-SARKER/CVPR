{
  "nbformat": 4,
  "nbformat_minor": 0,
  "metadata": {
    "colab": {
      "provenance": [],
      "authorship_tag": "ABX9TyOK9qEBJsK1Hw5i9dOx1giw",
      "include_colab_link": true
    },
    "kernelspec": {
      "name": "python3",
      "display_name": "Python 3"
    },
    "language_info": {
      "name": "python"
    }
  },
  "cells": [
    {
      "cell_type": "markdown",
      "metadata": {
        "id": "view-in-github",
        "colab_type": "text"
      },
      "source": [
        "<a href=\"https://colab.research.google.com/github/ARPITA-SARKER/CVPR/blob/main/assignment_1_KNN_ipynb.ipynb\" target=\"_parent\"><img src=\"https://colab.research.google.com/assets/colab-badge.svg\" alt=\"Open In Colab\"/></a>"
      ]
    },
    {
      "cell_type": "code",
      "execution_count": 1,
      "metadata": {
        "colab": {
          "base_uri": "https://localhost:8080/"
        },
        "id": "c6tZK7r1JKZ-",
        "outputId": "dbb608df-72ca-461f-b933-04f12a3af063"
      },
      "outputs": [
        {
          "output_type": "stream",
          "name": "stdout",
          "text": [
            "Mounted at /content/drive\n"
          ]
        }
      ],
      "source": [
        "from google.colab import drive\n",
        "drive.mount('/content/drive')"
      ]
    },
    {
      "cell_type": "code",
      "source": [
        "import os\n",
        "import numpy as np\n",
        "import random\n",
        "import matplotlib.pyplot as plt\n",
        "import cv2\n",
        "from tqdm import tqdm\n"
      ],
      "metadata": {
        "id": "VKCh3q0XJPHZ"
      },
      "execution_count": 2,
      "outputs": []
    },
    {
      "cell_type": "code",
      "source": [
        "DATA_PATH =\"/content/drive/MyDrive/CIFAR-10-images/test\""
      ],
      "metadata": {
        "id": "iQ5CznxVJUka"
      },
      "execution_count": 3,
      "outputs": []
    },
    {
      "cell_type": "code",
      "source": [
        "CATAGORIES=os.listdir(DATA_PATH)\n",
        "TRAIN_DATA =[]\n",
        "class_name=[]\n",
        "for c in CATAGORIES:\n",
        "  path=os.path.join(DATA_PATH,c)\n",
        "  print(path)\n",
        "  for img in tqdm(os.listdir(path)):\n",
        "   img_arr = cv2.imread(os.path.join(path,img),cv2.IMREAD_GRAYSCALE)\n",
        "   TRAIN_DATA.append([img_arr,CATAGORIES.index(c)])\n",
        "  class_name.append(c)\n",
        "random.shuffle(TRAIN_DATA)\n"
      ],
      "metadata": {
        "colab": {
          "base_uri": "https://localhost:8080/"
        },
        "id": "Z4nQ48jVJZra",
        "outputId": "4907309a-6931-4f0a-8ee8-29e9c9e40b20"
      },
      "execution_count": 4,
      "outputs": [
        {
          "output_type": "stream",
          "name": "stdout",
          "text": [
            "/content/drive/MyDrive/CIFAR-10-images/test/truck\n"
          ]
        },
        {
          "output_type": "stream",
          "name": "stderr",
          "text": [
            "100%|██████████| 1010/1010 [00:13<00:00, 76.86it/s] \n"
          ]
        },
        {
          "output_type": "stream",
          "name": "stdout",
          "text": [
            "/content/drive/MyDrive/CIFAR-10-images/test/dog\n"
          ]
        },
        {
          "output_type": "stream",
          "name": "stderr",
          "text": [
            "100%|██████████| 1000/1000 [00:18<00:00, 53.84it/s]\n"
          ]
        },
        {
          "output_type": "stream",
          "name": "stdout",
          "text": [
            "/content/drive/MyDrive/CIFAR-10-images/test/automobile\n"
          ]
        },
        {
          "output_type": "stream",
          "name": "stderr",
          "text": [
            "100%|██████████| 1010/1010 [00:14<00:00, 68.23it/s]\n"
          ]
        },
        {
          "output_type": "stream",
          "name": "stdout",
          "text": [
            "/content/drive/MyDrive/CIFAR-10-images/test/deer\n"
          ]
        },
        {
          "output_type": "stream",
          "name": "stderr",
          "text": [
            "100%|██████████| 1010/1010 [00:14<00:00, 68.12it/s] \n"
          ]
        },
        {
          "output_type": "stream",
          "name": "stdout",
          "text": [
            "/content/drive/MyDrive/CIFAR-10-images/test/frog\n"
          ]
        },
        {
          "output_type": "stream",
          "name": "stderr",
          "text": [
            "100%|██████████| 1000/1000 [00:14<00:00, 71.32it/s]\n"
          ]
        },
        {
          "output_type": "stream",
          "name": "stdout",
          "text": [
            "/content/drive/MyDrive/CIFAR-10-images/test/ship\n"
          ]
        },
        {
          "output_type": "stream",
          "name": "stderr",
          "text": [
            "100%|██████████| 1000/1000 [00:16<00:00, 60.91it/s]\n"
          ]
        },
        {
          "output_type": "stream",
          "name": "stdout",
          "text": [
            "/content/drive/MyDrive/CIFAR-10-images/test/bird\n"
          ]
        },
        {
          "output_type": "stream",
          "name": "stderr",
          "text": [
            "100%|██████████| 1000/1000 [00:15<00:00, 66.16it/s]\n"
          ]
        },
        {
          "output_type": "stream",
          "name": "stdout",
          "text": [
            "/content/drive/MyDrive/CIFAR-10-images/test/cat\n"
          ]
        },
        {
          "output_type": "stream",
          "name": "stderr",
          "text": [
            "100%|██████████| 1000/1000 [00:25<00:00, 39.46it/s]\n"
          ]
        },
        {
          "output_type": "stream",
          "name": "stdout",
          "text": [
            "/content/drive/MyDrive/CIFAR-10-images/test/horse\n"
          ]
        },
        {
          "output_type": "stream",
          "name": "stderr",
          "text": [
            "100%|██████████| 1000/1000 [00:14<00:00, 69.31it/s]\n"
          ]
        },
        {
          "output_type": "stream",
          "name": "stdout",
          "text": [
            "/content/drive/MyDrive/CIFAR-10-images/test/airplane\n"
          ]
        },
        {
          "output_type": "stream",
          "name": "stderr",
          "text": [
            "100%|██████████| 1000/1000 [00:15<00:00, 64.87it/s]\n"
          ]
        }
      ]
    },
    {
      "cell_type": "code",
      "source": [
        "plt.figure(figsize=(5,2))\n",
        "plt.imshow(TRAIN_DATA[1][0], cmap = 'gray', aspect='equal')"
      ],
      "metadata": {
        "colab": {
          "base_uri": "https://localhost:8080/",
          "height": 234
        },
        "id": "HD8AmtvMJiuj",
        "outputId": "58a4e390-5d81-4a27-b9f3-4e97fe899be6"
      },
      "execution_count": 5,
      "outputs": [
        {
          "output_type": "execute_result",
          "data": {
            "text/plain": [
              "<matplotlib.image.AxesImage at 0x7a3e5128b160>"
            ]
          },
          "metadata": {},
          "execution_count": 5
        },
        {
          "output_type": "display_data",
          "data": {
            "text/plain": [
              "<Figure size 500x200 with 1 Axes>"
            ],
            "image/png": "[encoded data removed]"
          },
          "metadata": {}
        }
      ]
    },
    {
      "cell_type": "code",
      "source": [
        "f0 = TRAIN_DATA[0:200]\n",
        "f1 = TRAIN_DATA[200:400]\n",
        "f2 = TRAIN_DATA[400:600]\n",
        "f3 = TRAIN_DATA[600:800]\n",
        "f4 = TRAIN_DATA[800:1000]\n",
        "\n",
        "k_values = range(1, 21)\n",
        "accuracies_l1 = []\n",
        "accuracies_l2 = []\n",
        "top_predictions_l1 = []\n",
        "top_predictions_l2 = []\n",
        "\n",
        "for k in k_values:\n",
        "    fold_accuracies_l1 = []\n",
        "    fold_accuracies_l2 = []\n",
        "    fold_predictions_l1 = []\n",
        "    fold_predictions_l2 = []\n",
        "\n",
        "    for i in range(5):\n",
        "        if i == 0:\n",
        "            train = f1 + f2 + f3 + f4\n",
        "            validation = f0\n",
        "        elif i == 1:\n",
        "            train = f0 + f2 + f3 + f4\n",
        "            validation = f1\n",
        "        elif i == 2:\n",
        "            train = f1 + f0 + f3 + f4\n",
        "            validation = f2\n",
        "        elif i == 3:\n",
        "            train = f1 + f2 + f0 + f4\n",
        "            validation = f3\n",
        "        elif i == 4:\n",
        "            train = f1 + f2 + f3 + f0\n",
        "            validation = f4\n",
        "\n",
        "        correct_l1 = 0\n",
        "        correct_l2 = 0\n",
        "        total = 0\n",
        "        predictions_l1 = []\n",
        "        predictions_l2 = []\n",
        "\n",
        "        for v in validation:\n",
        "            distances_l1 = []\n",
        "            distances_l2 = []\n",
        "\n",
        "            for t in train:\n",
        "                l1_dist = np.sum(np.abs(t[0] - v[0]))\n",
        "                l2_dist = np.sqrt(np.sum((t[0] - v[0]) ** 2))\n",
        "                distances_l1.append((l1_dist, t[1]))\n",
        "                distances_l2.append((l2_dist, t[1]))\n",
        "\n",
        "            distances_l1.sort()\n",
        "            distances_l2.sort()\n",
        "\n",
        "            neighbors_l1 = [dist[1] for dist in distances_l1[:k]]\n",
        "            neighbors_l2 = [dist[1] for dist in distances_l2[:k]]\n",
        "\n",
        "            prediction_l1 = max(set(neighbors_l1), key=neighbors_l1.count)\n",
        "            prediction_l2 = max(set(neighbors_l2), key=neighbors_l2.count)\n",
        "\n",
        "            if prediction_l1 == v[1]:\n",
        "                correct_l1 += 1\n",
        "            if prediction_l2 == v[1]:\n",
        "                correct_l2 += 1\n",
        "\n",
        "            total += 1\n",
        "\n",
        "            top_k_predictions_l1 = [dist[1] for dist in distances_l1[:5]]\n",
        "            top_k_predictions_l2 = [dist[1] for dist in distances_l2[:5]]\n",
        "            predictions_l1.append(top_k_predictions_l1)\n",
        "            predictions_l2.append(top_k_predictions_l2)\n",
        "\n",
        "        accuracy_l1 = correct_l1 / total\n",
        "        accuracy_l2 = correct_l2 / total\n",
        "\n",
        "        fold_accuracies_l1.append(accuracy_l1)\n",
        "        fold_accuracies_l2.append(accuracy_l2)\n",
        "        fold_predictions_l1.append(predictions_l1)\n",
        "        fold_predictions_l2.append(predictions_l2)\n",
        "\n",
        "        print(\"Fold\", i, \"K =\", k, \"Manhattan (L1) Accuracy:\", accuracy_l1)\n",
        "        print(\"Fold\", i, \"K =\", k, \"Euclidean (L2) Accuracy:\", accuracy_l2)\n",
        "\n",
        "    accuracies_l1.append(fold_accuracies_l1)\n",
        "    accuracies_l2.append(fold_accuracies_l2)\n",
        "    top_predictions_l1.append(fold_predictions_l1)\n",
        "    top_predictions_l2.append(fold_predictions_l2)\n",
        "\n",
        "\n",
        "accuracies_l1 = np.array(accuracies_l1)\n",
        "accuracies_l2 = np.array(accuracies_l2)\n",
        "\n",
        "\n",
        "avg_accuracies_l1 = np.mean(accuracies_l1, axis=1)\n",
        "avg_accuracies_l2 = np.mean(accuracies_l2, axis=1)\n",
        "\n",
        "\n"
      ],
      "metadata": {
        "colab": {
          "base_uri": "https://localhost:8080/"
        },
        "id": "U-f_MgOTXjfQ",
        "outputId": "44466b42-afde-4e3a-faab-0a65ce550024"
      },
      "execution_count": 6,
      "outputs": [
        {
          "output_type": "stream",
          "name": "stdout",
          "text": [
            "Fold 0 K = 1 Manhattan (L1) Accuracy: 0.2\n",
            "Fold 0 K = 1 Euclidean (L2) Accuracy: 0.155\n",
            "Fold 1 K = 1 Manhattan (L1) Accuracy: 0.14\n",
            "Fold 1 K = 1 Euclidean (L2) Accuracy: 0.095\n",
            "Fold 2 K = 1 Manhattan (L1) Accuracy: 0.16\n",
            "Fold 2 K = 1 Euclidean (L2) Accuracy: 0.115\n",
            "Fold 3 K = 1 Manhattan (L1) Accuracy: 0.155\n",
            "Fold 3 K = 1 Euclidean (L2) Accuracy: 0.185\n",
            "Fold 4 K = 1 Manhattan (L1) Accuracy: 0.135\n",
            "Fold 4 K = 1 Euclidean (L2) Accuracy: 0.125\n",
            "Fold 0 K = 2 Manhattan (L1) Accuracy: 0.195\n",
            "Fold 0 K = 2 Euclidean (L2) Accuracy: 0.19\n",
            "Fold 1 K = 2 Manhattan (L1) Accuracy: 0.14\n",
            "Fold 1 K = 2 Euclidean (L2) Accuracy: 0.1\n",
            "Fold 2 K = 2 Manhattan (L1) Accuracy: 0.14\n",
            "Fold 2 K = 2 Euclidean (L2) Accuracy: 0.125\n",
            "Fold 3 K = 2 Manhattan (L1) Accuracy: 0.13\n",
            "Fold 3 K = 2 Euclidean (L2) Accuracy: 0.175\n",
            "Fold 4 K = 2 Manhattan (L1) Accuracy: 0.145\n",
            "Fold 4 K = 2 Euclidean (L2) Accuracy: 0.135\n",
            "Fold 0 K = 3 Manhattan (L1) Accuracy: 0.205\n",
            "Fold 0 K = 3 Euclidean (L2) Accuracy: 0.19\n",
            "Fold 1 K = 3 Manhattan (L1) Accuracy: 0.135\n",
            "Fold 1 K = 3 Euclidean (L2) Accuracy: 0.1\n",
            "Fold 2 K = 3 Manhattan (L1) Accuracy: 0.17\n",
            "Fold 2 K = 3 Euclidean (L2) Accuracy: 0.13\n",
            "Fold 3 K = 3 Manhattan (L1) Accuracy: 0.145\n",
            "Fold 3 K = 3 Euclidean (L2) Accuracy: 0.175\n",
            "Fold 4 K = 3 Manhattan (L1) Accuracy: 0.135\n",
            "Fold 4 K = 3 Euclidean (L2) Accuracy: 0.13\n",
            "Fold 0 K = 4 Manhattan (L1) Accuracy: 0.19\n",
            "Fold 0 K = 4 Euclidean (L2) Accuracy: 0.155\n",
            "Fold 1 K = 4 Manhattan (L1) Accuracy: 0.15\n",
            "Fold 1 K = 4 Euclidean (L2) Accuracy: 0.095\n",
            "Fold 2 K = 4 Manhattan (L1) Accuracy: 0.185\n",
            "Fold 2 K = 4 Euclidean (L2) Accuracy: 0.105\n",
            "Fold 3 K = 4 Manhattan (L1) Accuracy: 0.155\n",
            "Fold 3 K = 4 Euclidean (L2) Accuracy: 0.14\n",
            "Fold 4 K = 4 Manhattan (L1) Accuracy: 0.15\n",
            "Fold 4 K = 4 Euclidean (L2) Accuracy: 0.13\n",
            "Fold 0 K = 5 Manhattan (L1) Accuracy: 0.215\n",
            "Fold 0 K = 5 Euclidean (L2) Accuracy: 0.18\n",
            "Fold 1 K = 5 Manhattan (L1) Accuracy: 0.12\n",
            "Fold 1 K = 5 Euclidean (L2) Accuracy: 0.135\n",
            "Fold 2 K = 5 Manhattan (L1) Accuracy: 0.16\n",
            "Fold 2 K = 5 Euclidean (L2) Accuracy: 0.14\n",
            "Fold 3 K = 5 Manhattan (L1) Accuracy: 0.16\n",
            "Fold 3 K = 5 Euclidean (L2) Accuracy: 0.14\n",
            "Fold 4 K = 5 Manhattan (L1) Accuracy: 0.155\n",
            "Fold 4 K = 5 Euclidean (L2) Accuracy: 0.14\n",
            "Fold 0 K = 6 Manhattan (L1) Accuracy: 0.195\n",
            "Fold 0 K = 6 Euclidean (L2) Accuracy: 0.155\n",
            "Fold 1 K = 6 Manhattan (L1) Accuracy: 0.135\n",
            "Fold 1 K = 6 Euclidean (L2) Accuracy: 0.105\n",
            "Fold 2 K = 6 Manhattan (L1) Accuracy: 0.16\n",
            "Fold 2 K = 6 Euclidean (L2) Accuracy: 0.13\n",
            "Fold 3 K = 6 Manhattan (L1) Accuracy: 0.13\n",
            "Fold 3 K = 6 Euclidean (L2) Accuracy: 0.145\n",
            "Fold 4 K = 6 Manhattan (L1) Accuracy: 0.145\n",
            "Fold 4 K = 6 Euclidean (L2) Accuracy: 0.16\n",
            "Fold 0 K = 7 Manhattan (L1) Accuracy: 0.19\n",
            "Fold 0 K = 7 Euclidean (L2) Accuracy: 0.195\n",
            "Fold 1 K = 7 Manhattan (L1) Accuracy: 0.145\n",
            "Fold 1 K = 7 Euclidean (L2) Accuracy: 0.11\n",
            "Fold 2 K = 7 Manhattan (L1) Accuracy: 0.175\n",
            "Fold 2 K = 7 Euclidean (L2) Accuracy: 0.105\n",
            "Fold 3 K = 7 Manhattan (L1) Accuracy: 0.155\n",
            "Fold 3 K = 7 Euclidean (L2) Accuracy: 0.155\n",
            "Fold 4 K = 7 Manhattan (L1) Accuracy: 0.14\n",
            "Fold 4 K = 7 Euclidean (L2) Accuracy: 0.16\n",
            "Fold 0 K = 8 Manhattan (L1) Accuracy: 0.185\n",
            "Fold 0 K = 8 Euclidean (L2) Accuracy: 0.175\n",
            "Fold 1 K = 8 Manhattan (L1) Accuracy: 0.14\n",
            "Fold 1 K = 8 Euclidean (L2) Accuracy: 0.105\n",
            "Fold 2 K = 8 Manhattan (L1) Accuracy: 0.165\n",
            "Fold 2 K = 8 Euclidean (L2) Accuracy: 0.1\n",
            "Fold 3 K = 8 Manhattan (L1) Accuracy: 0.15\n",
            "Fold 3 K = 8 Euclidean (L2) Accuracy: 0.15\n",
            "Fold 4 K = 8 Manhattan (L1) Accuracy: 0.14\n",
            "Fold 4 K = 8 Euclidean (L2) Accuracy: 0.16\n",
            "Fold 0 K = 9 Manhattan (L1) Accuracy: 0.155\n",
            "Fold 0 K = 9 Euclidean (L2) Accuracy: 0.175\n",
            "Fold 1 K = 9 Manhattan (L1) Accuracy: 0.15\n",
            "Fold 1 K = 9 Euclidean (L2) Accuracy: 0.09\n",
            "Fold 2 K = 9 Manhattan (L1) Accuracy: 0.18\n",
            "Fold 2 K = 9 Euclidean (L2) Accuracy: 0.115\n",
            "Fold 3 K = 9 Manhattan (L1) Accuracy: 0.14\n",
            "Fold 3 K = 9 Euclidean (L2) Accuracy: 0.15\n",
            "Fold 4 K = 9 Manhattan (L1) Accuracy: 0.13\n",
            "Fold 4 K = 9 Euclidean (L2) Accuracy: 0.13\n",
            "Fold 0 K = 10 Manhattan (L1) Accuracy: 0.165\n",
            "Fold 0 K = 10 Euclidean (L2) Accuracy: 0.175\n",
            "Fold 1 K = 10 Manhattan (L1) Accuracy: 0.15\n",
            "Fold 1 K = 10 Euclidean (L2) Accuracy: 0.065\n",
            "Fold 2 K = 10 Manhattan (L1) Accuracy: 0.175\n",
            "Fold 2 K = 10 Euclidean (L2) Accuracy: 0.105\n",
            "Fold 3 K = 10 Manhattan (L1) Accuracy: 0.115\n",
            "Fold 3 K = 10 Euclidean (L2) Accuracy: 0.145\n",
            "Fold 4 K = 10 Manhattan (L1) Accuracy: 0.115\n",
            "Fold 4 K = 10 Euclidean (L2) Accuracy: 0.13\n",
            "Fold 0 K = 11 Manhattan (L1) Accuracy: 0.18\n",
            "Fold 0 K = 11 Euclidean (L2) Accuracy: 0.19\n",
            "Fold 1 K = 11 Manhattan (L1) Accuracy: 0.135\n",
            "Fold 1 K = 11 Euclidean (L2) Accuracy: 0.07\n",
            "Fold 2 K = 11 Manhattan (L1) Accuracy: 0.175\n",
            "Fold 2 K = 11 Euclidean (L2) Accuracy: 0.12\n",
            "Fold 3 K = 11 Manhattan (L1) Accuracy: 0.13\n",
            "Fold 3 K = 11 Euclidean (L2) Accuracy: 0.13\n",
            "Fold 4 K = 11 Manhattan (L1) Accuracy: 0.12\n",
            "Fold 4 K = 11 Euclidean (L2) Accuracy: 0.135\n",
            "Fold 0 K = 12 Manhattan (L1) Accuracy: 0.175\n",
            "Fold 0 K = 12 Euclidean (L2) Accuracy: 0.175\n",
            "Fold 1 K = 12 Manhattan (L1) Accuracy: 0.13\n",
            "Fold 1 K = 12 Euclidean (L2) Accuracy: 0.075\n",
            "Fold 2 K = 12 Manhattan (L1) Accuracy: 0.16\n",
            "Fold 2 K = 12 Euclidean (L2) Accuracy: 0.135\n",
            "Fold 3 K = 12 Manhattan (L1) Accuracy: 0.115\n",
            "Fold 3 K = 12 Euclidean (L2) Accuracy: 0.145\n",
            "Fold 4 K = 12 Manhattan (L1) Accuracy: 0.12\n",
            "Fold 4 K = 12 Euclidean (L2) Accuracy: 0.13\n",
            "Fold 0 K = 13 Manhattan (L1) Accuracy: 0.18\n",
            "Fold 0 K = 13 Euclidean (L2) Accuracy: 0.18\n",
            "Fold 1 K = 13 Manhattan (L1) Accuracy: 0.12\n",
            "Fold 1 K = 13 Euclidean (L2) Accuracy: 0.09\n",
            "Fold 2 K = 13 Manhattan (L1) Accuracy: 0.155\n",
            "Fold 2 K = 13 Euclidean (L2) Accuracy: 0.13\n",
            "Fold 3 K = 13 Manhattan (L1) Accuracy: 0.135\n",
            "Fold 3 K = 13 Euclidean (L2) Accuracy: 0.15\n",
            "Fold 4 K = 13 Manhattan (L1) Accuracy: 0.135\n",
            "Fold 4 K = 13 Euclidean (L2) Accuracy: 0.135\n",
            "Fold 0 K = 14 Manhattan (L1) Accuracy: 0.165\n",
            "Fold 0 K = 14 Euclidean (L2) Accuracy: 0.18\n",
            "Fold 1 K = 14 Manhattan (L1) Accuracy: 0.115\n",
            "Fold 1 K = 14 Euclidean (L2) Accuracy: 0.085\n",
            "Fold 2 K = 14 Manhattan (L1) Accuracy: 0.155\n",
            "Fold 2 K = 14 Euclidean (L2) Accuracy: 0.135\n",
            "Fold 3 K = 14 Manhattan (L1) Accuracy: 0.13\n",
            "Fold 3 K = 14 Euclidean (L2) Accuracy: 0.16\n",
            "Fold 4 K = 14 Manhattan (L1) Accuracy: 0.13\n",
            "Fold 4 K = 14 Euclidean (L2) Accuracy: 0.15\n",
            "Fold 0 K = 15 Manhattan (L1) Accuracy: 0.17\n",
            "Fold 0 K = 15 Euclidean (L2) Accuracy: 0.175\n",
            "Fold 1 K = 15 Manhattan (L1) Accuracy: 0.135\n",
            "Fold 1 K = 15 Euclidean (L2) Accuracy: 0.1\n",
            "Fold 2 K = 15 Manhattan (L1) Accuracy: 0.15\n",
            "Fold 2 K = 15 Euclidean (L2) Accuracy: 0.11\n",
            "Fold 3 K = 15 Manhattan (L1) Accuracy: 0.12\n",
            "Fold 3 K = 15 Euclidean (L2) Accuracy: 0.175\n",
            "Fold 4 K = 15 Manhattan (L1) Accuracy: 0.145\n",
            "Fold 4 K = 15 Euclidean (L2) Accuracy: 0.14\n",
            "Fold 0 K = 16 Manhattan (L1) Accuracy: 0.175\n",
            "Fold 0 K = 16 Euclidean (L2) Accuracy: 0.19\n",
            "Fold 1 K = 16 Manhattan (L1) Accuracy: 0.125\n",
            "Fold 1 K = 16 Euclidean (L2) Accuracy: 0.1\n",
            "Fold 2 K = 16 Manhattan (L1) Accuracy: 0.165\n",
            "Fold 2 K = 16 Euclidean (L2) Accuracy: 0.105\n",
            "Fold 3 K = 16 Manhattan (L1) Accuracy: 0.13\n",
            "Fold 3 K = 16 Euclidean (L2) Accuracy: 0.16\n",
            "Fold 4 K = 16 Manhattan (L1) Accuracy: 0.14\n",
            "Fold 4 K = 16 Euclidean (L2) Accuracy: 0.14\n",
            "Fold 0 K = 17 Manhattan (L1) Accuracy: 0.175\n",
            "Fold 0 K = 17 Euclidean (L2) Accuracy: 0.18\n",
            "Fold 1 K = 17 Manhattan (L1) Accuracy: 0.12\n",
            "Fold 1 K = 17 Euclidean (L2) Accuracy: 0.09\n",
            "Fold 2 K = 17 Manhattan (L1) Accuracy: 0.165\n",
            "Fold 2 K = 17 Euclidean (L2) Accuracy: 0.11\n",
            "Fold 3 K = 17 Manhattan (L1) Accuracy: 0.13\n",
            "Fold 3 K = 17 Euclidean (L2) Accuracy: 0.175\n",
            "Fold 4 K = 17 Manhattan (L1) Accuracy: 0.135\n",
            "Fold 4 K = 17 Euclidean (L2) Accuracy: 0.135\n",
            "Fold 0 K = 18 Manhattan (L1) Accuracy: 0.16\n",
            "Fold 0 K = 18 Euclidean (L2) Accuracy: 0.18\n",
            "Fold 1 K = 18 Manhattan (L1) Accuracy: 0.115\n",
            "Fold 1 K = 18 Euclidean (L2) Accuracy: 0.095\n",
            "Fold 2 K = 18 Manhattan (L1) Accuracy: 0.155\n",
            "Fold 2 K = 18 Euclidean (L2) Accuracy: 0.12\n",
            "Fold 3 K = 18 Manhattan (L1) Accuracy: 0.125\n",
            "Fold 3 K = 18 Euclidean (L2) Accuracy: 0.185\n",
            "Fold 4 K = 18 Manhattan (L1) Accuracy: 0.145\n",
            "Fold 4 K = 18 Euclidean (L2) Accuracy: 0.14\n",
            "Fold 0 K = 19 Manhattan (L1) Accuracy: 0.15\n",
            "Fold 0 K = 19 Euclidean (L2) Accuracy: 0.18\n",
            "Fold 1 K = 19 Manhattan (L1) Accuracy: 0.125\n",
            "Fold 1 K = 19 Euclidean (L2) Accuracy: 0.115\n",
            "Fold 2 K = 19 Manhattan (L1) Accuracy: 0.15\n",
            "Fold 2 K = 19 Euclidean (L2) Accuracy: 0.13\n",
            "Fold 3 K = 19 Manhattan (L1) Accuracy: 0.115\n",
            "Fold 3 K = 19 Euclidean (L2) Accuracy: 0.165\n",
            "Fold 4 K = 19 Manhattan (L1) Accuracy: 0.165\n",
            "Fold 4 K = 19 Euclidean (L2) Accuracy: 0.13\n",
            "Fold 0 K = 20 Manhattan (L1) Accuracy: 0.165\n",
            "Fold 0 K = 20 Euclidean (L2) Accuracy: 0.18\n",
            "Fold 1 K = 20 Manhattan (L1) Accuracy: 0.14\n",
            "Fold 1 K = 20 Euclidean (L2) Accuracy: 0.11\n",
            "Fold 2 K = 20 Manhattan (L1) Accuracy: 0.155\n",
            "Fold 2 K = 20 Euclidean (L2) Accuracy: 0.12\n",
            "Fold 3 K = 20 Manhattan (L1) Accuracy: 0.13\n",
            "Fold 3 K = 20 Euclidean (L2) Accuracy: 0.16\n",
            "Fold 4 K = 20 Manhattan (L1) Accuracy: 0.14\n",
            "Fold 4 K = 20 Euclidean (L2) Accuracy: 0.13\n"
          ]
        }
      ]
    },
    {
      "cell_type": "code",
      "source": [
        "plt.figure(figsize=(15,5))\n",
        "plt.plot(k_values, avg_accuracies_l1, label=\"Manhattan (L1)\")\n",
        "plt.plot(k_values, avg_accuracies_l2, label=\"Euclidean (L2)\")\n",
        "plt.ylim(top=0.17)\n",
        "plt.xlabel(\"K\")\n",
        "plt.ylabel(\"Accuracy\")\n",
        "plt.title(\"Accuracy vs. K for L1 and L2  Distance Metrics\")\n",
        "plt.legend()\n",
        "plt.show()\n",
        "\n",
        "\n",
        "fold_index = 0\n",
        "validation_index = 0\n",
        "top_5_predictions_l1 = top_predictions_l1[fold_index][validation_index]\n",
        "top_5_predictions_l2 = top_predictions_l2[fold_index][validation_index]"
      ],
      "metadata": {
        "colab": {
          "base_uri": "https://localhost:8080/",
          "height": 487
        },
        "id": "P1Tu9mH0159I",
        "outputId": "594af9fb-e29e-4990-d2a2-82b758e7f51f"
      },
      "execution_count": 11,
      "outputs": [
        {
          "output_type": "display_data",
          "data": {
            "text/plain": [
              "<Figure size 1500x500 with 1 Axes>"
            ],
            "image/png": "[encoded data removed]"
          },
          "metadata": {}
        }
      ]
    },
    {
      "cell_type": "markdown",
      "source": [
        "# ***Discussioon***\n",
        "\n",
        "The line graph presented above visualizes the accuracy values of two distance metrics, Manhattan (L1) and Euclidean (L2), using 5-fold cross-validation.\n",
        "\n",
        "Manhattan Distance and Euclidean Distance serve the purpose of quantifying dissimilarity between data points within a vector space. It's important to note that Euclidean distance is notably sensitive to outliers because it squares differences, making larger differences more influential. On the other hand, Manhattan distance is less affected by outliers since it sums up the absolute differences.From the CIFAR-10 dataset, we are utilizing the \"test\" folder, which includes a total of 10,000 images, each having dimensions of 32x32 pixels and being in color (3 channels). To expedite processing due to time constraints, these images have been converted to grayscale, and they have been evenly distributed into subfolders, resulting in approximately 2,000 images in each subfolder.\n",
        "\n",
        "Regarding the accuracy vs. k graph:\n",
        "The K-nearest neighbors (KNN) algorithm relies on a distance metric, which can be either Manhattan or Euclidean, to identify the k-nearest neighbors for a given data point. The graph depicts how accuracy values change as k varies, ranging from 0 to 20.\n",
        "\n",
        "In the case of Manhattan (L1) accuracy, the graph reveals that accuracy fluctuates during the increment of k-values between 0 and 7. It then exhibits an descending trend, achieving its lowest accuracy of 0.14 at k-value 15.However,the  highest accuracy value 0.165 at k-value 4\n",
        "\n",
        "In contrast, the accuracy of Euclidean (L2) decreases initially, with a sudden peak at around k-value 4.5. Subsequently, the accuracy gradually declines between k-values 5 to 13. However, there's a steady increase in accuracy, reaching a maximum of 0.145 at the  k-value 14. The lowest L2 accuracy value is at same k value(10) as the L1 distance.\n",
        "Notably, L2's accuracy experiences a more substantial decrease compared to L1 as the value of k increases.\n",
        "\n",
        "This analysis highlights the distinct behavior of the two distance metrics in KNN, their sensitivity to outliers, and how the choice of k impacts accuracy differently for each metric.\n",
        "# ***Limitations***\n",
        "-  The primary limitation lies in the choice of distance metric. The performance of K-nearest neighbors (KNN) is highly dependent on selecting the appropriate distance metric. While comparison between Manhattan and Euclidean distances, Euclidean distance metrics might perform better for specific datasets as it  achieves highest accuracy rate\n",
        "\n",
        "-  KNN is affected by the dimensions where the performance degrades as the number of dimensions increases.\n",
        "\n",
        "- The performance of KNN can be sensitive to the scaling of features that can cause biasing result and normaliation can mitigate this.\n",
        "\n",
        "- KNN is sensitive to noisy data and outliers. Handling noisy data through robust distance metrics is essential to achieve desired result.\n",
        "\n",
        "- KNN can be computationally expensive for large datasets, especially in increased dimensional spaces.\n"
      ],
      "metadata": {
        "id": "yVMXKrW2CkwH"
      }
    },
    {
      "cell_type": "code",
      "source": [
        "\n",
        "print(\"Top 5 Predictions of Manhattan (L1):\")\n",
        "for i, prediction in enumerate(top_5_predictions_l1[:5]):\n",
        "    print(f\"Prediction {i+1}: Class {prediction}\")\n",
        "\n",
        "print(\"-----------------------------------------------\")\n",
        "\n",
        "print(\"Top 5 Predictions Euclidean (L2):\")\n",
        "for i, prediction in enumerate(top_5_predictions_l2[:5]):\n",
        "    print(f\"Prediction {i+1}: Class {prediction}\")"
      ],
      "metadata": {
        "colab": {
          "base_uri": "https://localhost:8080/"
        },
        "id": "TKLE1beSh_fb",
        "outputId": "2f3fd5ad-1c87-4038-f9f0-ffc2a331ce42"
      },
      "execution_count": 8,
      "outputs": [
        {
          "output_type": "stream",
          "name": "stdout",
          "text": [
            "Top 5 Predictions of Manhattan (L1):\n",
            "Prediction 1: Class [6, 9, 3, 9, 9]\n",
            "Prediction 2: Class [9, 6, 6, 6, 3]\n",
            "Prediction 3: Class [9, 5, 3, 6, 3]\n",
            "Prediction 4: Class [4, 3, 7, 9, 5]\n",
            "Prediction 5: Class [9, 3, 9, 6, 5]\n",
            "-----------------------------------------------\n",
            "Top 5 Predictions Euclidean (L2):\n",
            "Prediction 1: Class [5, 8, 1, 9, 4]\n",
            "Prediction 2: Class [6, 3, 9, 3, 3]\n",
            "Prediction 3: Class [9, 6, 3, 6, 9]\n",
            "Prediction 4: Class [9, 6, 1, 6, 0]\n",
            "Prediction 5: Class [5, 3, 5, 9, 9]\n"
          ]
        }
      ]
    },
    {
      "cell_type": "code",
      "source": [
        "for i,j in enumerate(class_name):\n",
        " print(f\"class[{i}]={j}\",end=\" \")"
      ],
      "metadata": {
        "colab": {
          "base_uri": "https://localhost:8080/"
        },
        "id": "5swVsb66_dvg",
        "outputId": "42867d78-b842-4cb2-a172-018133155489"
      },
      "execution_count": 9,
      "outputs": [
        {
          "output_type": "stream",
          "name": "stdout",
          "text": [
            "class[0]=truck class[1]=dog class[2]=automobile class[3]=deer class[4]=frog class[5]=ship class[6]=bird class[7]=cat class[8]=horse class[9]=airplane "
          ]
        }
      ]
    }
  ]
}